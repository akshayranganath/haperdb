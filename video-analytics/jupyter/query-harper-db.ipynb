{
 "cells": [
  {
   "cell_type": "code",
   "execution_count": 52,
   "id": "c70be94c-4677-4685-bc67-308542ef9edc",
   "metadata": {},
   "outputs": [],
   "source": [
    "import requests\n",
    "from dotenv import load_dotenv \n",
    "import os\n",
    "import json"
   ]
  },
  {
   "cell_type": "code",
   "execution_count": 53,
   "id": "82938585-f703-4b40-ad12-cc8b4b350660",
   "metadata": {},
   "outputs": [
    {
     "data": {
      "text/plain": [
       "True"
      ]
     },
     "execution_count": 53,
     "metadata": {},
     "output_type": "execute_result"
    }
   ],
   "source": [
    "load_dotenv()"
   ]
  },
  {
   "cell_type": "code",
   "execution_count": 54,
   "id": "74647ea9-bf6c-40b8-bf90-dc132a8c9aeb",
   "metadata": {},
   "outputs": [],
   "source": [
    "def make_post_request(payload:dict):\n",
    "    resp = requests.post(\n",
    "        os.getenv('HARPERDB_URL'),\n",
    "        json=payload,\n",
    "        auth=(os.getenv('HARPERDB_USERNAME'), os.getenv('HARPERDB_PASSWORD'))\n",
    "    )\n",
    "\n",
    "    resp.raise_for_status()\n",
    "    return resp.json()"
   ]
  },
  {
   "cell_type": "code",
   "execution_count": 65,
   "id": "2fbd11bd-6bbb-4ec0-b3aa-bc9c22ce4a00",
   "metadata": {},
   "outputs": [],
   "source": [
    "def create_table(tbl_schema:str, tbl_name:str):\n",
    "    payload = {\n",
    "        \"operation\": \"create_table\",\n",
    "        \"schema\": tbl_schema,\n",
    "        \"table\": tbl_name,\n",
    "        \"primary_key\": \"timestamp\",\n",
    "        \"attributes\": [\n",
    "            {\n",
    "                \"name\": \"timestamp\",\n",
    "                \"type\": \"Date\",\n",
    "                \"indexed\": True\n",
    "            },\n",
    "            {\n",
    "                \"name\": \"event\",\n",
    "                \"type\": \"string\",\n",
    "                \"indexed\": True\n",
    "            },\n",
    "            {\n",
    "                \"name\": \"percent\",\n",
    "                \"type\": \"Int\",\n",
    "                \"indexed\": False\n",
    "            }\n",
    "        ]\n",
    "    }\n",
    "\n",
    "    return make_post_request(payload)"
   ]
  },
  {
   "cell_type": "code",
   "execution_count": 55,
   "id": "5b2b9eaf-c532-4607-afe8-6539bf450d60",
   "metadata": {},
   "outputs": [],
   "source": [
    "def get_records(sql_query:str):\n",
    "    # HarperDB's REST API expects a JSON payload with the operation type and query\n",
    "    payload = {\n",
    "        \"operation\": \"sql\",\n",
    "        \"sql\": sql_query\n",
    "    }    \n",
    "    return make_post_request(payload)"
   ]
  },
  {
   "cell_type": "code",
   "execution_count": 67,
   "id": "0205acd6-2da0-44a2-bd1b-db8d206e3dbe",
   "metadata": {},
   "outputs": [],
   "source": [
    "def describe_table(tbl_schema:str, tbl_name:str):\n",
    "    payload = {\n",
    "        'operation': 'describe_table',\n",
    "        'schema': tbl_schema,\n",
    "        'table': tbl_name\n",
    "    }\n",
    "    return make_post_request(payload)    "
   ]
  },
  {
   "cell_type": "code",
   "execution_count": 56,
   "id": "08494e91-f9bb-4342-937a-85a5ef1261da",
   "metadata": {},
   "outputs": [],
   "source": [
    "def drop_table(tbl_schema:str, tbl_name:str):\n",
    "    payload = {\n",
    "        'operation': 'drop_table',\n",
    "        'schema': tbl_schema,\n",
    "        'table': tbl_name\n",
    "    }\n",
    "    return make_post_request(payload)"
   ]
  },
  {
   "cell_type": "code",
   "execution_count": 58,
   "id": "01265a88-a9c7-47ab-8f3f-088d57b6c4f5",
   "metadata": {},
   "outputs": [],
   "source": [
    "# simple query\n",
    "query = f'select * from {os.getenv(\"HARPERDB_SCHEMA\")}.{os.getenv(\"HARPERDB_TABLE\")};'"
   ]
  },
  {
   "cell_type": "code",
   "execution_count": 62,
   "id": "3d65f827-eb1a-45cd-a609-e15edecddf07",
   "metadata": {},
   "outputs": [
    {
     "ename": "HTTPError",
     "evalue": "404 Client Error: Not Found for url: http://localhost:9925/",
     "output_type": "error",
     "traceback": [
      "\u001b[0;31m---------------------------------------------------------------------------\u001b[0m",
      "\u001b[0;31mHTTPError\u001b[0m                                 Traceback (most recent call last)",
      "Cell \u001b[0;32mIn[62], line 1\u001b[0m\n\u001b[0;32m----> 1\u001b[0m \u001b[38;5;28mprint\u001b[39m(json\u001b[38;5;241m.\u001b[39mdumps(\u001b[43mget_records\u001b[49m\u001b[43m(\u001b[49m\u001b[43mquery\u001b[49m\u001b[43m)\u001b[49m[\u001b[38;5;241m6\u001b[39m], indent\u001b[38;5;241m=\u001b[39m\u001b[38;5;241m2\u001b[39m))\n",
      "Cell \u001b[0;32mIn[55], line 7\u001b[0m, in \u001b[0;36mget_records\u001b[0;34m(sql_query)\u001b[0m\n\u001b[1;32m      1\u001b[0m \u001b[38;5;28;01mdef\u001b[39;00m \u001b[38;5;21mget_records\u001b[39m(sql_query:\u001b[38;5;28mstr\u001b[39m):\n\u001b[1;32m      2\u001b[0m     \u001b[38;5;66;03m# HarperDB's REST API expects a JSON payload with the operation type and query\u001b[39;00m\n\u001b[1;32m      3\u001b[0m     payload \u001b[38;5;241m=\u001b[39m {\n\u001b[1;32m      4\u001b[0m         \u001b[38;5;124m\"\u001b[39m\u001b[38;5;124moperation\u001b[39m\u001b[38;5;124m\"\u001b[39m: \u001b[38;5;124m\"\u001b[39m\u001b[38;5;124msql\u001b[39m\u001b[38;5;124m\"\u001b[39m,\n\u001b[1;32m      5\u001b[0m         \u001b[38;5;124m\"\u001b[39m\u001b[38;5;124msql\u001b[39m\u001b[38;5;124m\"\u001b[39m: sql_query\n\u001b[1;32m      6\u001b[0m     }    \n\u001b[0;32m----> 7\u001b[0m     \u001b[38;5;28;01mreturn\u001b[39;00m \u001b[43mmake_post_request\u001b[49m\u001b[43m(\u001b[49m\u001b[43mpayload\u001b[49m\u001b[43m)\u001b[49m\n",
      "Cell \u001b[0;32mIn[54], line 8\u001b[0m, in \u001b[0;36mmake_post_request\u001b[0;34m(payload)\u001b[0m\n\u001b[1;32m      1\u001b[0m \u001b[38;5;28;01mdef\u001b[39;00m \u001b[38;5;21mmake_post_request\u001b[39m(payload:\u001b[38;5;28mdict\u001b[39m):\n\u001b[1;32m      2\u001b[0m     resp \u001b[38;5;241m=\u001b[39m requests\u001b[38;5;241m.\u001b[39mpost(\n\u001b[1;32m      3\u001b[0m         os\u001b[38;5;241m.\u001b[39mgetenv(\u001b[38;5;124m'\u001b[39m\u001b[38;5;124mHARPERDB_URL\u001b[39m\u001b[38;5;124m'\u001b[39m),\n\u001b[1;32m      4\u001b[0m         json\u001b[38;5;241m=\u001b[39mpayload,\n\u001b[1;32m      5\u001b[0m         auth\u001b[38;5;241m=\u001b[39m(os\u001b[38;5;241m.\u001b[39mgetenv(\u001b[38;5;124m'\u001b[39m\u001b[38;5;124mHARPERDB_USERNAME\u001b[39m\u001b[38;5;124m'\u001b[39m), os\u001b[38;5;241m.\u001b[39mgetenv(\u001b[38;5;124m'\u001b[39m\u001b[38;5;124mHARPERDB_PASSWORD\u001b[39m\u001b[38;5;124m'\u001b[39m))\n\u001b[1;32m      6\u001b[0m     )\n\u001b[0;32m----> 8\u001b[0m     \u001b[43mresp\u001b[49m\u001b[38;5;241;43m.\u001b[39;49m\u001b[43mraise_for_status\u001b[49m\u001b[43m(\u001b[49m\u001b[43m)\u001b[49m\n\u001b[1;32m      9\u001b[0m     \u001b[38;5;28;01mreturn\u001b[39;00m resp\u001b[38;5;241m.\u001b[39mjson()\n",
      "File \u001b[0;32m~/Projects/aiml/venv/lib/python3.12/site-packages/requests/models.py:1024\u001b[0m, in \u001b[0;36mResponse.raise_for_status\u001b[0;34m(self)\u001b[0m\n\u001b[1;32m   1019\u001b[0m     http_error_msg \u001b[38;5;241m=\u001b[39m (\n\u001b[1;32m   1020\u001b[0m         \u001b[38;5;124mf\u001b[39m\u001b[38;5;124m\"\u001b[39m\u001b[38;5;132;01m{\u001b[39;00m\u001b[38;5;28mself\u001b[39m\u001b[38;5;241m.\u001b[39mstatus_code\u001b[38;5;132;01m}\u001b[39;00m\u001b[38;5;124m Server Error: \u001b[39m\u001b[38;5;132;01m{\u001b[39;00mreason\u001b[38;5;132;01m}\u001b[39;00m\u001b[38;5;124m for url: \u001b[39m\u001b[38;5;132;01m{\u001b[39;00m\u001b[38;5;28mself\u001b[39m\u001b[38;5;241m.\u001b[39murl\u001b[38;5;132;01m}\u001b[39;00m\u001b[38;5;124m\"\u001b[39m\n\u001b[1;32m   1021\u001b[0m     )\n\u001b[1;32m   1023\u001b[0m \u001b[38;5;28;01mif\u001b[39;00m http_error_msg:\n\u001b[0;32m-> 1024\u001b[0m     \u001b[38;5;28;01mraise\u001b[39;00m HTTPError(http_error_msg, response\u001b[38;5;241m=\u001b[39m\u001b[38;5;28mself\u001b[39m)\n",
      "\u001b[0;31mHTTPError\u001b[0m: 404 Client Error: Not Found for url: http://localhost:9925/"
     ]
    }
   ],
   "source": [
    "print(json.dumps(get_records(query)[6], indent=2))"
   ]
  },
  {
   "cell_type": "code",
   "execution_count": 68,
   "id": "b52274ca-0ff9-4054-8136-f6b8c46d3d1d",
   "metadata": {},
   "outputs": [
    {
     "data": {
      "text/plain": [
       "{'schema': 'analytics',\n",
       " 'name': 'events',\n",
       " 'hash_attribute': 'timestamp',\n",
       " 'audit': True,\n",
       " 'schema_defined': True,\n",
       " 'attributes': [{'attribute': 'timestamp',\n",
       "   'type': 'Date',\n",
       "   'indexed': True,\n",
       "   'is_primary_key': True},\n",
       "  {'attribute': 'event', 'type': 'string', 'indexed': True},\n",
       "  {'attribute': 'percent', 'type': 'Int', 'indexed': False}],\n",
       " 'db_size': 917504,\n",
       " 'sources': [],\n",
       " 'record_count': 0,\n",
       " 'table_size': 0,\n",
       " 'db_audit_size': 16384}"
      ]
     },
     "execution_count": 68,
     "metadata": {},
     "output_type": "execute_result"
    }
   ],
   "source": [
    "#describe table\n",
    "describe_table(tbl_schema=os.getenv(\"HARPERDB_SCHEMA\"), tbl_name=os.getenv('HARPERDB_TABLE'))"
   ]
  },
  {
   "cell_type": "code",
   "execution_count": 64,
   "id": "ad524e71-5d84-49cb-ae6a-396aae8f4b11",
   "metadata": {},
   "outputs": [
    {
     "ename": "HTTPError",
     "evalue": "404 Client Error: Not Found for url: http://localhost:9925/",
     "output_type": "error",
     "traceback": [
      "\u001b[0;31m---------------------------------------------------------------------------\u001b[0m",
      "\u001b[0;31mHTTPError\u001b[0m                                 Traceback (most recent call last)",
      "Cell \u001b[0;32mIn[64], line 2\u001b[0m\n\u001b[1;32m      1\u001b[0m \u001b[38;5;66;03m# drop the dummy table created so far\u001b[39;00m\n\u001b[0;32m----> 2\u001b[0m resp \u001b[38;5;241m=\u001b[39m \u001b[43mdrop_table\u001b[49m\u001b[43m(\u001b[49m\u001b[43mtbl_schema\u001b[49m\u001b[38;5;241;43m=\u001b[39;49m\u001b[43mos\u001b[49m\u001b[38;5;241;43m.\u001b[39;49m\u001b[43mgetenv\u001b[49m\u001b[43m(\u001b[49m\u001b[38;5;124;43m'\u001b[39;49m\u001b[38;5;124;43mHARPERDB_SCHEMA\u001b[39;49m\u001b[38;5;124;43m'\u001b[39;49m\u001b[43m)\u001b[49m\u001b[43m,\u001b[49m\u001b[43mtbl_name\u001b[49m\u001b[38;5;241;43m=\u001b[39;49m\u001b[43mos\u001b[49m\u001b[38;5;241;43m.\u001b[39;49m\u001b[43mgetenv\u001b[49m\u001b[43m(\u001b[49m\u001b[38;5;124;43m'\u001b[39;49m\u001b[38;5;124;43mHARPERDB_TABLE\u001b[39;49m\u001b[38;5;124;43m'\u001b[39;49m\u001b[43m)\u001b[49m\u001b[43m)\u001b[49m\n\u001b[1;32m      3\u001b[0m \u001b[38;5;28mprint\u001b[39m(resp)\n",
      "Cell \u001b[0;32mIn[56], line 7\u001b[0m, in \u001b[0;36mdrop_table\u001b[0;34m(tbl_schema, tbl_name)\u001b[0m\n\u001b[1;32m      1\u001b[0m \u001b[38;5;28;01mdef\u001b[39;00m \u001b[38;5;21mdrop_table\u001b[39m(tbl_schema:\u001b[38;5;28mstr\u001b[39m, tbl_name:\u001b[38;5;28mstr\u001b[39m):\n\u001b[1;32m      2\u001b[0m     payload \u001b[38;5;241m=\u001b[39m {\n\u001b[1;32m      3\u001b[0m         \u001b[38;5;124m'\u001b[39m\u001b[38;5;124moperation\u001b[39m\u001b[38;5;124m'\u001b[39m: \u001b[38;5;124m'\u001b[39m\u001b[38;5;124mdrop_table\u001b[39m\u001b[38;5;124m'\u001b[39m,\n\u001b[1;32m      4\u001b[0m         \u001b[38;5;124m'\u001b[39m\u001b[38;5;124mschema\u001b[39m\u001b[38;5;124m'\u001b[39m: tbl_schema,\n\u001b[1;32m      5\u001b[0m         \u001b[38;5;124m'\u001b[39m\u001b[38;5;124mtable\u001b[39m\u001b[38;5;124m'\u001b[39m: tbl_name\n\u001b[1;32m      6\u001b[0m     }\n\u001b[0;32m----> 7\u001b[0m     \u001b[38;5;28;01mreturn\u001b[39;00m \u001b[43mmake_post_request\u001b[49m\u001b[43m(\u001b[49m\u001b[43mpayload\u001b[49m\u001b[43m)\u001b[49m\n",
      "Cell \u001b[0;32mIn[54], line 8\u001b[0m, in \u001b[0;36mmake_post_request\u001b[0;34m(payload)\u001b[0m\n\u001b[1;32m      1\u001b[0m \u001b[38;5;28;01mdef\u001b[39;00m \u001b[38;5;21mmake_post_request\u001b[39m(payload:\u001b[38;5;28mdict\u001b[39m):\n\u001b[1;32m      2\u001b[0m     resp \u001b[38;5;241m=\u001b[39m requests\u001b[38;5;241m.\u001b[39mpost(\n\u001b[1;32m      3\u001b[0m         os\u001b[38;5;241m.\u001b[39mgetenv(\u001b[38;5;124m'\u001b[39m\u001b[38;5;124mHARPERDB_URL\u001b[39m\u001b[38;5;124m'\u001b[39m),\n\u001b[1;32m      4\u001b[0m         json\u001b[38;5;241m=\u001b[39mpayload,\n\u001b[1;32m      5\u001b[0m         auth\u001b[38;5;241m=\u001b[39m(os\u001b[38;5;241m.\u001b[39mgetenv(\u001b[38;5;124m'\u001b[39m\u001b[38;5;124mHARPERDB_USERNAME\u001b[39m\u001b[38;5;124m'\u001b[39m), os\u001b[38;5;241m.\u001b[39mgetenv(\u001b[38;5;124m'\u001b[39m\u001b[38;5;124mHARPERDB_PASSWORD\u001b[39m\u001b[38;5;124m'\u001b[39m))\n\u001b[1;32m      6\u001b[0m     )\n\u001b[0;32m----> 8\u001b[0m     \u001b[43mresp\u001b[49m\u001b[38;5;241;43m.\u001b[39;49m\u001b[43mraise_for_status\u001b[49m\u001b[43m(\u001b[49m\u001b[43m)\u001b[49m\n\u001b[1;32m      9\u001b[0m     \u001b[38;5;28;01mreturn\u001b[39;00m resp\u001b[38;5;241m.\u001b[39mjson()\n",
      "File \u001b[0;32m~/Projects/aiml/venv/lib/python3.12/site-packages/requests/models.py:1024\u001b[0m, in \u001b[0;36mResponse.raise_for_status\u001b[0;34m(self)\u001b[0m\n\u001b[1;32m   1019\u001b[0m     http_error_msg \u001b[38;5;241m=\u001b[39m (\n\u001b[1;32m   1020\u001b[0m         \u001b[38;5;124mf\u001b[39m\u001b[38;5;124m\"\u001b[39m\u001b[38;5;132;01m{\u001b[39;00m\u001b[38;5;28mself\u001b[39m\u001b[38;5;241m.\u001b[39mstatus_code\u001b[38;5;132;01m}\u001b[39;00m\u001b[38;5;124m Server Error: \u001b[39m\u001b[38;5;132;01m{\u001b[39;00mreason\u001b[38;5;132;01m}\u001b[39;00m\u001b[38;5;124m for url: \u001b[39m\u001b[38;5;132;01m{\u001b[39;00m\u001b[38;5;28mself\u001b[39m\u001b[38;5;241m.\u001b[39murl\u001b[38;5;132;01m}\u001b[39;00m\u001b[38;5;124m\"\u001b[39m\n\u001b[1;32m   1021\u001b[0m     )\n\u001b[1;32m   1023\u001b[0m \u001b[38;5;28;01mif\u001b[39;00m http_error_msg:\n\u001b[0;32m-> 1024\u001b[0m     \u001b[38;5;28;01mraise\u001b[39;00m HTTPError(http_error_msg, response\u001b[38;5;241m=\u001b[39m\u001b[38;5;28mself\u001b[39m)\n",
      "\u001b[0;31mHTTPError\u001b[0m: 404 Client Error: Not Found for url: http://localhost:9925/"
     ]
    }
   ],
   "source": [
    "# drop the dummy table created so far\n",
    "resp = drop_table(tbl_schema=os.getenv('HARPERDB_SCHEMA'),tbl_name=os.getenv('HARPERDB_TABLE'))\n",
    "print(resp)"
   ]
  },
  {
   "cell_type": "code",
   "execution_count": 66,
   "id": "77daf6ce-ac01-4e99-8855-db8cab01cfe3",
   "metadata": {},
   "outputs": [
    {
     "data": {
      "text/plain": [
       "{'message': \"table 'analytics.events' successfully created.\"}"
      ]
     },
     "execution_count": 66,
     "metadata": {},
     "output_type": "execute_result"
    }
   ],
   "source": [
    "create_table(tbl_schema=os.getenv('HARPERDB_SCHEMA'),tbl_name=os.getenv('HARPERDB_TABLE'))"
   ]
  },
  {
   "cell_type": "code",
   "execution_count": null,
   "id": "46c934f0-c56d-46d0-99ca-c7d2af6aac6a",
   "metadata": {},
   "outputs": [],
   "source": []
  }
 ],
 "metadata": {
  "kernelspec": {
   "display_name": "Python 3 (ipykernel)",
   "language": "python",
   "name": "python3"
  },
  "language_info": {
   "codemirror_mode": {
    "name": "ipython",
    "version": 3
   },
   "file_extension": ".py",
   "mimetype": "text/x-python",
   "name": "python",
   "nbconvert_exporter": "python",
   "pygments_lexer": "ipython3",
   "version": "3.12.9"
  }
 },
 "nbformat": 4,
 "nbformat_minor": 5
}
